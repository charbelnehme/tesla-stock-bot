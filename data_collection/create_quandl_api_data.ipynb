{
 "cells": [
  {
   "cell_type": "markdown",
   "metadata": {},
   "source": [
    "# QUANDL Data Retrieval"
   ]
  },
  {
   "cell_type": "code",
   "execution_count": 1,
   "metadata": {},
   "outputs": [],
   "source": [
    "# Import libraries\n",
    "import requests\n",
    "import pandas as pd\n",
    "import json \n",
    "import urllib\n",
    "import nasdaqdatalink\n",
    "nasdaqdatalink.ApiConfig.api_key = 'NASDAQ_DATA_LINK_API_KEY'"
   ]
  },
  {
   "cell_type": "code",
   "execution_count": 2,
   "metadata": {},
   "outputs": [
    {
     "name": "stdout",
     "output_type": "stream",
     "text": [
      "nasdaq_data_link_api_key\n"
     ]
    }
   ],
   "source": [
    "# Save API key as environment variable\n",
    "nasdaqdatalink.save_key(\"nasdaq_data_link_api_key\")\n",
    "print(nasdaqdatalink.ApiConfig.api_key)\n",
    "\n",
    "# Load API key from environment variable\n",
    "#nasdaqdatalink.read_key()\n",
    "#print(nasdaqdatalink.ApiConfig.api_key)"
   ]
  },
  {
   "cell_type": "code",
   "execution_count": 5,
   "metadata": {},
   "outputs": [
    {
     "ename": "LimitExceededError",
     "evalue": "(Status 429) (Nasdaq Data Link Error QELx06) You have exceeded the API speed limit and your account has temporaly been disabled.  Please contact clientsuccess@nasdaq.com for more information.",
     "output_type": "error",
     "traceback": [
      "\u001b[1;31m---------------------------------------------------------------------------\u001b[0m",
      "\u001b[1;31mLimitExceededError\u001b[0m                        Traceback (most recent call last)",
      "\u001b[1;32mg:\\My Drive\\Projects\\Algorithmic Trading\\tesla-stock-bot\\data_collection\\create_quandl_api_data.ipynb Cell 4\u001b[0m in \u001b[0;36m<cell line: 1>\u001b[1;34m()\u001b[0m\n\u001b[1;32m----> <a href='vscode-notebook-cell:/g%3A/My%20Drive/Projects/Algorithmic%20Trading/tesla-stock-bot/data_collection/create_quandl_api_data.ipynb#W5sZmlsZQ%3D%3D?line=0'>1</a>\u001b[0m data \u001b[39m=\u001b[39m nasdaqdatalink\u001b[39m.\u001b[39;49mget(\u001b[39m\"\u001b[39;49m\u001b[39mWIKI/AAPL\u001b[39;49m\u001b[39m\"\u001b[39;49m, start_date\u001b[39m=\u001b[39;49m\u001b[39m\"\u001b[39;49m\u001b[39m2018-01-01\u001b[39;49m\u001b[39m\"\u001b[39;49m, end_date\u001b[39m=\u001b[39;49m\u001b[39m\"\u001b[39;49m\u001b[39m2022-10-07\u001b[39;49m\u001b[39m\"\u001b[39;49m, limit\u001b[39m=\u001b[39;49m\u001b[39m300\u001b[39;49m)\n",
      "File \u001b[1;32mc:\\Users\\CharbelNehme\\Anaconda3\\envs\\ml4t\\lib\\site-packages\\nasdaqdatalink\\get.py:48\u001b[0m, in \u001b[0;36mget\u001b[1;34m(dataset, **kwargs)\u001b[0m\n\u001b[0;32m     46\u001b[0m     \u001b[39mif\u001b[39;00m dataset_args[\u001b[39m'\u001b[39m\u001b[39mcolumn_index\u001b[39m\u001b[39m'\u001b[39m] \u001b[39mis\u001b[39;00m \u001b[39mnot\u001b[39;00m \u001b[39mNone\u001b[39;00m:\n\u001b[0;32m     47\u001b[0m         kwargs\u001b[39m.\u001b[39mupdate({\u001b[39m'\u001b[39m\u001b[39mcolumn_index\u001b[39m\u001b[39m'\u001b[39m: dataset_args[\u001b[39m'\u001b[39m\u001b[39mcolumn_index\u001b[39m\u001b[39m'\u001b[39m]})\n\u001b[1;32m---> 48\u001b[0m     data \u001b[39m=\u001b[39m Dataset(dataset_args[\u001b[39m'\u001b[39;49m\u001b[39mcode\u001b[39;49m\u001b[39m'\u001b[39;49m])\u001b[39m.\u001b[39;49mdata(params\u001b[39m=\u001b[39;49mkwargs, handle_column_not_found\u001b[39m=\u001b[39;49m\u001b[39mTrue\u001b[39;49;00m)\n\u001b[0;32m     49\u001b[0m \u001b[39m# Array\u001b[39;00m\n\u001b[0;32m     50\u001b[0m \u001b[39melif\u001b[39;00m \u001b[39misinstance\u001b[39m(dataset, \u001b[39mlist\u001b[39m):\n",
      "File \u001b[1;32mc:\\Users\\CharbelNehme\\Anaconda3\\envs\\ml4t\\lib\\site-packages\\nasdaqdatalink\\model\\dataset.py:47\u001b[0m, in \u001b[0;36mDataset.data\u001b[1;34m(self, **options)\u001b[0m\n\u001b[0;32m     45\u001b[0m updated_options \u001b[39m=\u001b[39m Util\u001b[39m.\u001b[39mmerge_options(\u001b[39m'\u001b[39m\u001b[39mparams\u001b[39m\u001b[39m'\u001b[39m, params, \u001b[39m*\u001b[39m\u001b[39m*\u001b[39moptions)\n\u001b[0;32m     46\u001b[0m \u001b[39mtry\u001b[39;00m:\n\u001b[1;32m---> 47\u001b[0m     \u001b[39mreturn\u001b[39;00m Data\u001b[39m.\u001b[39;49mall(\u001b[39m*\u001b[39;49m\u001b[39m*\u001b[39;49mupdated_options)\n\u001b[0;32m     48\u001b[0m \u001b[39mexcept\u001b[39;00m NotFoundError:\n\u001b[0;32m     49\u001b[0m     \u001b[39mif\u001b[39;00m handle_not_found_error:\n",
      "File \u001b[1;32mc:\\Users\\CharbelNehme\\Anaconda3\\envs\\ml4t\\lib\\site-packages\\nasdaqdatalink\\operations\\list.py:15\u001b[0m, in \u001b[0;36mListOperation.all\u001b[1;34m(cls, **options)\u001b[0m\n\u001b[0;32m     13\u001b[0m     options[\u001b[39m'\u001b[39m\u001b[39mparams\u001b[39m\u001b[39m'\u001b[39m] \u001b[39m=\u001b[39m {}\n\u001b[0;32m     14\u001b[0m path \u001b[39m=\u001b[39m Util\u001b[39m.\u001b[39mconstructed_path(\u001b[39mcls\u001b[39m\u001b[39m.\u001b[39mlist_path(), options[\u001b[39m'\u001b[39m\u001b[39mparams\u001b[39m\u001b[39m'\u001b[39m])\n\u001b[1;32m---> 15\u001b[0m r \u001b[39m=\u001b[39m Connection\u001b[39m.\u001b[39;49mrequest(\u001b[39m'\u001b[39;49m\u001b[39mget\u001b[39;49m\u001b[39m'\u001b[39;49m, path, \u001b[39m*\u001b[39;49m\u001b[39m*\u001b[39;49moptions)\n\u001b[0;32m     16\u001b[0m response_data \u001b[39m=\u001b[39m r\u001b[39m.\u001b[39mjson()\n\u001b[0;32m     17\u001b[0m Util\u001b[39m.\u001b[39mconvert_to_dates(response_data)\n",
      "File \u001b[1;32mc:\\Users\\CharbelNehme\\Anaconda3\\envs\\ml4t\\lib\\site-packages\\nasdaqdatalink\\connection.py:40\u001b[0m, in \u001b[0;36mConnection.request\u001b[1;34m(cls, http_verb, url, **options)\u001b[0m\n\u001b[0;32m     36\u001b[0m options[\u001b[39m'\u001b[39m\u001b[39mheaders\u001b[39m\u001b[39m'\u001b[39m] \u001b[39m=\u001b[39m headers\n\u001b[0;32m     38\u001b[0m abs_url \u001b[39m=\u001b[39m \u001b[39m'\u001b[39m\u001b[39m%s\u001b[39;00m\u001b[39m/\u001b[39m\u001b[39m%s\u001b[39;00m\u001b[39m'\u001b[39m \u001b[39m%\u001b[39m (ApiConfig\u001b[39m.\u001b[39mapi_base, url)\n\u001b[1;32m---> 40\u001b[0m \u001b[39mreturn\u001b[39;00m \u001b[39mcls\u001b[39;49m\u001b[39m.\u001b[39;49mexecute_request(http_verb, abs_url, \u001b[39m*\u001b[39;49m\u001b[39m*\u001b[39;49moptions)\n",
      "File \u001b[1;32mc:\\Users\\CharbelNehme\\Anaconda3\\envs\\ml4t\\lib\\site-packages\\nasdaqdatalink\\connection.py:52\u001b[0m, in \u001b[0;36mConnection.execute_request\u001b[1;34m(cls, http_verb, url, **options)\u001b[0m\n\u001b[0;32m     47\u001b[0m response \u001b[39m=\u001b[39m session\u001b[39m.\u001b[39mrequest(method\u001b[39m=\u001b[39mhttp_verb,\n\u001b[0;32m     48\u001b[0m                            url\u001b[39m=\u001b[39murl,\n\u001b[0;32m     49\u001b[0m                            verify\u001b[39m=\u001b[39mApiConfig\u001b[39m.\u001b[39mverify_ssl,\n\u001b[0;32m     50\u001b[0m                            \u001b[39m*\u001b[39m\u001b[39m*\u001b[39moptions)\n\u001b[0;32m     51\u001b[0m \u001b[39mif\u001b[39;00m response\u001b[39m.\u001b[39mstatus_code \u001b[39m<\u001b[39m \u001b[39m200\u001b[39m \u001b[39mor\u001b[39;00m response\u001b[39m.\u001b[39mstatus_code \u001b[39m>\u001b[39m\u001b[39m=\u001b[39m \u001b[39m300\u001b[39m:\n\u001b[1;32m---> 52\u001b[0m     \u001b[39mcls\u001b[39;49m\u001b[39m.\u001b[39;49mhandle_api_error(response)\n\u001b[0;32m     53\u001b[0m \u001b[39melse\u001b[39;00m:\n\u001b[0;32m     54\u001b[0m     \u001b[39mreturn\u001b[39;00m response\n",
      "File \u001b[1;32mc:\\Users\\CharbelNehme\\Anaconda3\\envs\\ml4t\\lib\\site-packages\\nasdaqdatalink\\connection.py:120\u001b[0m, in \u001b[0;36mConnection.handle_api_error\u001b[1;34m(cls, resp)\u001b[0m\n\u001b[0;32m    109\u001b[0m d_klass \u001b[39m=\u001b[39m {\n\u001b[0;32m    110\u001b[0m     \u001b[39m'\u001b[39m\u001b[39mL\u001b[39m\u001b[39m'\u001b[39m: LimitExceededError,\n\u001b[0;32m    111\u001b[0m     \u001b[39m'\u001b[39m\u001b[39mM\u001b[39m\u001b[39m'\u001b[39m: InternalServerError,\n\u001b[1;32m   (...)\u001b[0m\n\u001b[0;32m    116\u001b[0m     \u001b[39m'\u001b[39m\u001b[39mX\u001b[39m\u001b[39m'\u001b[39m: ServiceUnavailableError\n\u001b[0;32m    117\u001b[0m }\n\u001b[0;32m    118\u001b[0m klass \u001b[39m=\u001b[39m d_klass\u001b[39m.\u001b[39mget(code_letter, DataLinkError)\n\u001b[1;32m--> 120\u001b[0m \u001b[39mraise\u001b[39;00m klass(message, resp\u001b[39m.\u001b[39mstatus_code, resp\u001b[39m.\u001b[39mtext, resp\u001b[39m.\u001b[39mheaders, code)\n",
      "\u001b[1;31mLimitExceededError\u001b[0m: (Status 429) (Nasdaq Data Link Error QELx06) You have exceeded the API speed limit and your account has temporaly been disabled.  Please contact clientsuccess@nasdaq.com for more information."
     ]
    }
   ],
   "source": [
    "data = nasdaqdatalink.get(\"WIKI/TSLA\", start_date=\"2018-01-01\", end_date=\"2022-10-07\")"
   ]
  },
  {
   "cell_type": "code",
   "execution_count": 21,
   "metadata": {},
   "outputs": [
    {
     "ename": "LimitExceededError",
     "evalue": "(Status 429) (Nasdaq Data Link Error QELx06) You have exceeded the API speed limit and your account has temporaly been disabled.  Please contact clientsuccess@nasdaq.com for more information.",
     "output_type": "error",
     "traceback": [
      "\u001b[1;31m---------------------------------------------------------------------------\u001b[0m",
      "\u001b[1;31mLimitExceededError\u001b[0m                        Traceback (most recent call last)",
      "\u001b[1;32mg:\\My Drive\\Projects\\Algorithmic Trading\\tesla-stock-bot\\data_collection\\create_quandl_api_data.ipynb Cell 4\u001b[0m in \u001b[0;36m<cell line: 1>\u001b[1;34m()\u001b[0m\n\u001b[1;32m----> <a href='vscode-notebook-cell:/g%3A/My%20Drive/Projects/Algorithmic%20Trading/tesla-stock-bot/data_collection/create_quandl_api_data.ipynb#X22sZmlsZQ%3D%3D?line=0'>1</a>\u001b[0m nasdaqdatalink\u001b[39m.\u001b[39;49mexport_table(\u001b[39m'\u001b[39;49m\u001b[39mZACKS/FC\u001b[39;49m\u001b[39m'\u001b[39;49m,  ticker\u001b[39m=\u001b[39;49m[\u001b[39m'\u001b[39;49m\u001b[39mTSLA\u001b[39;49m\u001b[39m'\u001b[39;49m], per_end_date\u001b[39m=\u001b[39;49m{\u001b[39m'\u001b[39;49m\u001b[39mgte\u001b[39;49m\u001b[39m'\u001b[39;49m: \u001b[39m'\u001b[39;49m\u001b[39m2022-10-07\u001b[39;49m\u001b[39m'\u001b[39;49m}, qopts\u001b[39m=\u001b[39;49m{\u001b[39m'\u001b[39;49m\u001b[39mcolumns\u001b[39;49m\u001b[39m'\u001b[39;49m:[\u001b[39m'\u001b[39;49m\u001b[39mticker\u001b[39;49m\u001b[39m'\u001b[39;49m, \u001b[39m'\u001b[39;49m\u001b[39mper_end_date\u001b[39;49m\u001b[39m'\u001b[39;49m]})\n",
      "File \u001b[1;32mc:\\Users\\CharbelNehme\\Anaconda3\\envs\\ml4t\\lib\\site-packages\\nasdaqdatalink\\export_table.py:22\u001b[0m, in \u001b[0;36mexport_table\u001b[1;34m(datatable_code, **kwargs)\u001b[0m\n\u001b[0;32m     19\u001b[0m ApiKeyUtil\u001b[39m.\u001b[39minit_api_key_from_args(kwargs)\n\u001b[0;32m     21\u001b[0m filename \u001b[39m=\u001b[39m kwargs\u001b[39m.\u001b[39mpop(\u001b[39m'\u001b[39m\u001b[39mfilename\u001b[39m\u001b[39m'\u001b[39m, \u001b[39m'\u001b[39m\u001b[39m.\u001b[39m\u001b[39m'\u001b[39m)\n\u001b[1;32m---> 22\u001b[0m \u001b[39mreturn\u001b[39;00m Datatable(datatable_code)\u001b[39m.\u001b[39;49mdownload_file(filename, \u001b[39m*\u001b[39;49m\u001b[39m*\u001b[39;49mkwargs)\n",
      "File \u001b[1;32mc:\\Users\\CharbelNehme\\Anaconda3\\envs\\ml4t\\lib\\site-packages\\nasdaqdatalink\\model\\datatable.py:40\u001b[0m, in \u001b[0;36mDatatable.download_file\u001b[1;34m(self, file_or_folder_path, **options)\u001b[0m\n\u001b[0;32m     37\u001b[0m file_is_ready \u001b[39m=\u001b[39m \u001b[39mFalse\u001b[39;00m\n\u001b[0;32m     39\u001b[0m \u001b[39mwhile\u001b[39;00m \u001b[39mnot\u001b[39;00m file_is_ready:\n\u001b[1;32m---> 40\u001b[0m     file_is_ready \u001b[39m=\u001b[39m \u001b[39mself\u001b[39;49m\u001b[39m.\u001b[39;49m_request_file_info(file_or_folder_path, params\u001b[39m=\u001b[39;49moptions)\n\u001b[0;32m     41\u001b[0m     \u001b[39mif\u001b[39;00m \u001b[39mnot\u001b[39;00m file_is_ready:\n\u001b[0;32m     42\u001b[0m         log\u001b[39m.\u001b[39mdebug(Message\u001b[39m.\u001b[39mLONG_GENERATION_TIME)\n",
      "File \u001b[1;32mc:\\Users\\CharbelNehme\\Anaconda3\\envs\\ml4t\\lib\\site-packages\\nasdaqdatalink\\model\\datatable.py:54\u001b[0m, in \u001b[0;36mDatatable._request_file_info\u001b[1;34m(self, file_or_folder_path, **options)\u001b[0m\n\u001b[0;32m     50\u001b[0m request_type \u001b[39m=\u001b[39m RequestType\u001b[39m.\u001b[39mget_request_type(url, \u001b[39m*\u001b[39m\u001b[39m*\u001b[39moptions)\n\u001b[0;32m     52\u001b[0m updated_options \u001b[39m=\u001b[39m Util\u001b[39m.\u001b[39mconvert_options(request_type\u001b[39m=\u001b[39mrequest_type, \u001b[39m*\u001b[39m\u001b[39m*\u001b[39moptions)\n\u001b[1;32m---> 54\u001b[0m r \u001b[39m=\u001b[39m Connection\u001b[39m.\u001b[39;49mrequest(request_type, url, \u001b[39m*\u001b[39;49m\u001b[39m*\u001b[39;49mupdated_options)\n\u001b[0;32m     56\u001b[0m response_data \u001b[39m=\u001b[39m r\u001b[39m.\u001b[39mjson()\n\u001b[0;32m     58\u001b[0m file_info \u001b[39m=\u001b[39m response_data[\u001b[39m'\u001b[39m\u001b[39mdatatable_bulk_download\u001b[39m\u001b[39m'\u001b[39m][\u001b[39m'\u001b[39m\u001b[39mfile\u001b[39m\u001b[39m'\u001b[39m]\n",
      "File \u001b[1;32mc:\\Users\\CharbelNehme\\Anaconda3\\envs\\ml4t\\lib\\site-packages\\nasdaqdatalink\\connection.py:40\u001b[0m, in \u001b[0;36mConnection.request\u001b[1;34m(cls, http_verb, url, **options)\u001b[0m\n\u001b[0;32m     36\u001b[0m options[\u001b[39m'\u001b[39m\u001b[39mheaders\u001b[39m\u001b[39m'\u001b[39m] \u001b[39m=\u001b[39m headers\n\u001b[0;32m     38\u001b[0m abs_url \u001b[39m=\u001b[39m \u001b[39m'\u001b[39m\u001b[39m%s\u001b[39;00m\u001b[39m/\u001b[39m\u001b[39m%s\u001b[39;00m\u001b[39m'\u001b[39m \u001b[39m%\u001b[39m (ApiConfig\u001b[39m.\u001b[39mapi_base, url)\n\u001b[1;32m---> 40\u001b[0m \u001b[39mreturn\u001b[39;00m \u001b[39mcls\u001b[39;49m\u001b[39m.\u001b[39;49mexecute_request(http_verb, abs_url, \u001b[39m*\u001b[39;49m\u001b[39m*\u001b[39;49moptions)\n",
      "File \u001b[1;32mc:\\Users\\CharbelNehme\\Anaconda3\\envs\\ml4t\\lib\\site-packages\\nasdaqdatalink\\connection.py:52\u001b[0m, in \u001b[0;36mConnection.execute_request\u001b[1;34m(cls, http_verb, url, **options)\u001b[0m\n\u001b[0;32m     47\u001b[0m response \u001b[39m=\u001b[39m session\u001b[39m.\u001b[39mrequest(method\u001b[39m=\u001b[39mhttp_verb,\n\u001b[0;32m     48\u001b[0m                            url\u001b[39m=\u001b[39murl,\n\u001b[0;32m     49\u001b[0m                            verify\u001b[39m=\u001b[39mApiConfig\u001b[39m.\u001b[39mverify_ssl,\n\u001b[0;32m     50\u001b[0m                            \u001b[39m*\u001b[39m\u001b[39m*\u001b[39moptions)\n\u001b[0;32m     51\u001b[0m \u001b[39mif\u001b[39;00m response\u001b[39m.\u001b[39mstatus_code \u001b[39m<\u001b[39m \u001b[39m200\u001b[39m \u001b[39mor\u001b[39;00m response\u001b[39m.\u001b[39mstatus_code \u001b[39m>\u001b[39m\u001b[39m=\u001b[39m \u001b[39m300\u001b[39m:\n\u001b[1;32m---> 52\u001b[0m     \u001b[39mcls\u001b[39;49m\u001b[39m.\u001b[39;49mhandle_api_error(response)\n\u001b[0;32m     53\u001b[0m \u001b[39melse\u001b[39;00m:\n\u001b[0;32m     54\u001b[0m     \u001b[39mreturn\u001b[39;00m response\n",
      "File \u001b[1;32mc:\\Users\\CharbelNehme\\Anaconda3\\envs\\ml4t\\lib\\site-packages\\nasdaqdatalink\\connection.py:120\u001b[0m, in \u001b[0;36mConnection.handle_api_error\u001b[1;34m(cls, resp)\u001b[0m\n\u001b[0;32m    109\u001b[0m d_klass \u001b[39m=\u001b[39m {\n\u001b[0;32m    110\u001b[0m     \u001b[39m'\u001b[39m\u001b[39mL\u001b[39m\u001b[39m'\u001b[39m: LimitExceededError,\n\u001b[0;32m    111\u001b[0m     \u001b[39m'\u001b[39m\u001b[39mM\u001b[39m\u001b[39m'\u001b[39m: InternalServerError,\n\u001b[1;32m   (...)\u001b[0m\n\u001b[0;32m    116\u001b[0m     \u001b[39m'\u001b[39m\u001b[39mX\u001b[39m\u001b[39m'\u001b[39m: ServiceUnavailableError\n\u001b[0;32m    117\u001b[0m }\n\u001b[0;32m    118\u001b[0m klass \u001b[39m=\u001b[39m d_klass\u001b[39m.\u001b[39mget(code_letter, DataLinkError)\n\u001b[1;32m--> 120\u001b[0m \u001b[39mraise\u001b[39;00m klass(message, resp\u001b[39m.\u001b[39mstatus_code, resp\u001b[39m.\u001b[39mtext, resp\u001b[39m.\u001b[39mheaders, code)\n",
      "\u001b[1;31mLimitExceededError\u001b[0m: (Status 429) (Nasdaq Data Link Error QELx06) You have exceeded the API speed limit and your account has temporaly been disabled.  Please contact clientsuccess@nasdaq.com for more information."
     ]
    }
   ],
   "source": [
    "nasdaqdatalink.export_table('ZACKS/FC',  ticker=['TSLA'], per_end_date={'gte': '2022-10-07'}, qopts={'columns':['ticker', 'per_end_date']})"
   ]
  },
  {
   "cell_type": "code",
   "execution_count": null,
   "metadata": {},
   "outputs": [],
   "source": [
    "#TODO: Save to HDF5 data file \n",
    "\n",
    "\n"
   ]
  }
 ],
 "metadata": {
  "kernelspec": {
   "display_name": "Python 3.8.13 ('ml4t')",
   "language": "python",
   "name": "python3"
  },
  "language_info": {
   "codemirror_mode": {
    "name": "ipython",
    "version": 3
   },
   "file_extension": ".py",
   "mimetype": "text/x-python",
   "name": "python",
   "nbconvert_exporter": "python",
   "pygments_lexer": "ipython3",
   "version": "3.8.13"
  },
  "orig_nbformat": 4,
  "vscode": {
   "interpreter": {
    "hash": "a26ab0c918e84e797e2ee25aa09f8dffd6cda3d9c661f9b6d4aab8d2a17d2239"
   }
  }
 },
 "nbformat": 4,
 "nbformat_minor": 2
}
