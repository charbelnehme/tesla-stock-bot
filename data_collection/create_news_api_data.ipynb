{
 "cells": [
  {
   "cell_type": "code",
   "execution_count": 5,
   "metadata": {},
   "outputs": [
    {
     "ename": "ModuleNotFoundError",
     "evalue": "No module named 'newsapi.newsapi_client'",
     "output_type": "error",
     "traceback": [
      "\u001b[1;31m---------------------------------------------------------------------------\u001b[0m",
      "\u001b[1;31mModuleNotFoundError\u001b[0m                       Traceback (most recent call last)",
      "\u001b[1;32mg:\\My Drive\\Projects\\Algorithmic Trading\\tesla-stock-bot\\data_collection\\create_news_api_data.ipynb Cell 1\u001b[0m in \u001b[0;36m<cell line: 8>\u001b[1;34m()\u001b[0m\n\u001b[0;32m      <a href='vscode-notebook-cell:/g%3A/My%20Drive/Projects/Algorithmic%20Trading/tesla-stock-bot/data_collection/create_news_api_data.ipynb#W0sZmlsZQ%3D%3D?line=5'>6</a>\u001b[0m \u001b[39mfrom\u001b[39;00m \u001b[39mdatetime\u001b[39;00m \u001b[39mimport\u001b[39;00m datetime, timedelta\n\u001b[0;32m      <a href='vscode-notebook-cell:/g%3A/My%20Drive/Projects/Algorithmic%20Trading/tesla-stock-bot/data_collection/create_news_api_data.ipynb#W0sZmlsZQ%3D%3D?line=6'>7</a>\u001b[0m \u001b[39mfrom\u001b[39;00m \u001b[39mdotenv\u001b[39;00m \u001b[39mimport\u001b[39;00m load_dotenv\n\u001b[1;32m----> <a href='vscode-notebook-cell:/g%3A/My%20Drive/Projects/Algorithmic%20Trading/tesla-stock-bot/data_collection/create_news_api_data.ipynb#W0sZmlsZQ%3D%3D?line=7'>8</a>\u001b[0m \u001b[39mfrom\u001b[39;00m \u001b[39mnewsapi\u001b[39;00m\u001b[39m.\u001b[39;00m\u001b[39mnewsapi_client\u001b[39;00m \u001b[39mimport\u001b[39;00m NewsApiClient\n\u001b[0;32m     <a href='vscode-notebook-cell:/g%3A/My%20Drive/Projects/Algorithmic%20Trading/tesla-stock-bot/data_collection/create_news_api_data.ipynb#W0sZmlsZQ%3D%3D?line=9'>10</a>\u001b[0m get_ipython()\u001b[39m.\u001b[39mrun_line_magic(\u001b[39m'\u001b[39m\u001b[39mmatplotlib\u001b[39m\u001b[39m'\u001b[39m, \u001b[39m'\u001b[39m\u001b[39minline\u001b[39m\u001b[39m'\u001b[39m)\n",
      "\u001b[1;31mModuleNotFoundError\u001b[0m: No module named 'newsapi.newsapi_client'"
     ]
    }
   ],
   "source": [
    "# Initial imports\n",
    "import os\n",
    "from pathlib import Path \n",
    "import pandas as pd\n",
    "import numpy as np \n",
    "from datetime import datetime, timedelta\n",
    "from dotenv import load_dotenv\n",
    "from newsapi.newsapi_client import NewsApiClient\n",
    "\n",
    "%matplotlib inline"
   ]
  },
  {
   "cell_type": "code",
   "execution_count": 6,
   "metadata": {},
   "outputs": [],
   "source": [
    "pip uninstall newsapi "
   ]
  },
  {
   "cell_type": "code",
   "execution_count": 10,
   "metadata": {},
   "outputs": [],
   "source": [
    "# Load .env enviroment variables\n",
    "load_dotenv()\n",
    "\n",
    "# Create News API client\n",
    "newsapi = NewsApiClient(api_key=os.environ[\"NEWS_API_KEY\"])\n",
    "api_key = os.getenv(\"NEWS_API_KEY\")\n",
    "newsapi = NewsApiClient(api_key=api_key)"
   ]
  },
  {
   "cell_type": "code",
   "execution_count": 11,
   "metadata": {},
   "outputs": [],
   "source": [
    "# Function to create a dataframe for news articles\n",
    "def create_df(news, language):\n",
    "    articles = []\n",
    "    for article in news:\n",
    "        try:\n",
    "            title = article[\"title\"]\n",
    "            description = article[\"description\"]\n",
    "            text = article[\"content\"]\n",
    "            date = article[\"publishedAt\"][:10]\n",
    "\n",
    "            articles.append({\n",
    "                \"title\": title,\n",
    "                \"description\": description,\n",
    "                \"text\": text,\n",
    "                \"date\": date,\n",
    "                \"language\": language\n",
    "            })\n",
    "        except AttributeError as ae:\n",
    "            pass\n",
    "\n",
    "    return pd.DataFrame(articles)"
   ]
  },
  {
   "cell_type": "code",
   "execution_count": 12,
   "metadata": {},
   "outputs": [],
   "source": [
    "# Tesla news\n",
    "tesla_news_en = newsapi.get_everything(\n",
    "    q=\"tesla\",\n",
    "    language=\"en\"\n",
    ")\n",
    "\n",
    "# Create a DataFrame with Bitcoin news\n",
    "tesla_df = create_df(tesla_news_en[\"articles\"], \"en\")\n",
    "\n",
    "# Save tesla_df as csv\n",
    "tesla_df.to_csv(Path(\"data/tesla_news.csv\"))                        #TO DO: change the path to the data folder"
   ]
  },
  {
   "cell_type": "code",
   "execution_count": null,
   "metadata": {},
   "outputs": [],
   "source": [
    "# Elon Musk\n",
    "musk_news_en = newsapi.get_everything(\n",
    "    q=\"Elon Musk\",\n",
    "    language=\"en\"\n",
    ")\n",
    "\n",
    "# Create dataframe with Elon Musk news\n",
    "musk_df = create_df(musk_news_en[\"articles\"], \"en\")\n",
    "\n",
    "# Save dataframe as csv \n",
    "musk_df.to_csv(Path(\"data/musk_news.csv\"))                          #TO DO: change the path to the data folder"
   ]
  }
 ],
 "metadata": {
  "file_extension": ".py",
  "kernelspec": {
   "display_name": "Python 3.8.13 ('ml4t')",
   "language": "python",
   "name": "python3"
  },
  "language_info": {
   "codemirror_mode": {
    "name": "ipython",
    "version": 3
   },
   "file_extension": ".py",
   "mimetype": "text/x-python",
   "name": "python",
   "nbconvert_exporter": "python",
   "pygments_lexer": "ipython3",
   "version": "3.8.13"
  },
  "mimetype": "text/x-python",
  "name": "python",
  "npconvert_exporter": "python",
  "pygments_lexer": "ipython3",
  "toc-autonumbering": false,
  "toc-showmarkdowntxt": false,
  "version": 3,
  "vscode": {
   "interpreter": {
    "hash": "a26ab0c918e84e797e2ee25aa09f8dffd6cda3d9c661f9b6d4aab8d2a17d2239"
   }
  }
 },
 "nbformat": 4,
 "nbformat_minor": 4
}
