{
 "cells": [
  {
   "cell_type": "code",
   "execution_count": null,
   "metadata": {},
   "outputs": [],
   "source": [
    "# Initial Imports \n",
    "import os\n",
    "import pandas as pd \n",
    "from pathlib import Path\n",
    "from dotenv import load_dotenv\n",
    "\n",
    "# Alpaca Trade API  \n",
    "import alpaca_trade_api as tradeapi\n",
    "import alpaca_trade_api as api\n",
    "from alpaca_trade_api.rest import REST, TimeFrame, TimeFrameUnit, URL\n",
    "\n",
    "from alpaca.data.historical import CryptoHistoricalDataClient\n",
    "from alpaca.data.requests import CryptoBarsRequest\n",
    "from alpaca.data.timeframe import TimeFrame"
   ]
  },
  {
   "cell_type": "code",
   "execution_count": null,
   "metadata": {},
   "outputs": [],
   "source": [
    "load_dotenv()                                                               # Load .env enviroment variables\n",
    "alpaca_api_key = os.getenv(\"ALPACA_API_KEY\")                                # Set Alpaca API key from .env\n",
    "alpaca_secret_key = os.getenv(\"ALPACA_SECRET_KEY\")                          # Set Alpaca API secret from .env\n",
    "api = tradeapi.REST(alpaca_api_key, alpaca_secret_key, api_version='v2')    # Create Alpaca Trade API client"
   ]
  },
  {
   "cell_type": "code",
   "execution_count": null,
   "metadata": {},
   "outputs": [],
   "source": [
    "## Set timeframe to \"1Min\"\n",
    "timeframe = \"1Min\"\n",
    "\n",
    "# Format current date as ISO format \n",
    "start_date = pd.Timestamp(\"2017-01-01\", tz=\"America/New_York\").isoformat()\n",
    "end_date = pd.Timestamp(\"2022-10-07\", tz=\"America/New_York\").isoformat()\n",
    "\n",
    "# Set the stock tickers \n",
    "tickers = [\"TSLA\"]\n",
    "\n",
    "# Retrieve Tesla stock data via Alpaca\n",
    "df_tesla = api.get_bars(\n",
    "    tickers, \n",
    "    timeframe, \n",
    "    start = start_date,\n",
    "    end = end_date,\n",
    ").df"
   ]
  },
  {
   "cell_type": "code",
   "execution_count": null,
   "metadata": {},
   "outputs": [],
   "source": [
    "# Inspect dataframe\n",
    "display(df_tesla.head())\n",
    "display(df_tesla.tail())"
   ]
  },
  {
   "cell_type": "code",
   "execution_count": null,
   "metadata": {},
   "outputs": [],
   "source": [
    "# Save prices dataframe as csv file and store in 'data' directory\n",
    "df_tesla.to_csv(Path(\"data/tesla_prices.csv\"))"
   ]
  }
 ],
 "metadata": {
  "kernelspec": {
   "display_name": "Python 3.7.13 ('algotrading')",
   "language": "python",
   "name": "python3"
  },
  "language_info": {
   "codemirror_mode": {
    "name": "ipython",
    "version": 3
   },
   "file_extension": ".py",
   "mimetype": "text/x-python",
   "name": "python",
   "nbconvert_exporter": "python",
   "pygments_lexer": "ipython3",
   "version": "3.7.13"
  },
  "orig_nbformat": 4,
  "vscode": {
   "interpreter": {
    "hash": "a2f371e185fdda869cf9bc779c8b82229bddcfa33e8a657eba75b6a81ff55239"
   }
  }
 },
 "nbformat": 4,
 "nbformat_minor": 2
}
