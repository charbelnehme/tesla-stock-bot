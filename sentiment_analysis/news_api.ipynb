{
 "cells": [
  {
   "cell_type": "code",
   "execution_count": 1,
   "metadata": {},
   "outputs": [],
   "source": [
    "# Initial imports\n",
    "import os\n",
    "from pathlib import Path \n",
    "import pandas as pd\n",
    "import numpy as np \n",
    "from datetime import datetime, timedelta\n",
    "from dotenv import load_dotenv\n",
    "from newsapi.newsapi_client import NewsApiClient\n",
    "\n",
    "%matplotlib inline"
   ]
  },
  {
   "cell_type": "code",
   "execution_count": 2,
   "metadata": {},
   "outputs": [],
   "source": [
    "# Load .env enviroment variables\n",
    "load_dotenv()\n",
    "\n",
    "# Create News API client\n",
    "newsapi = NewsApiClient(api_key=os.environ[\"NEWS_API_KEY\"])\n",
    "api_key = os.getenv(\"NEWS_API_KEY\")\n",
    "newsapi = NewsApiClient(api_key=api_key)"
   ]
  },
  {
   "cell_type": "code",
   "execution_count": 3,
   "metadata": {},
   "outputs": [],
   "source": [
    "# Function to create a dataframe for news articles\n",
    "def create_df(news, language):\n",
    "    articles = []\n",
    "    for article in news:\n",
    "        try:\n",
    "            title = article[\"title\"]\n",
    "            description = article[\"description\"]\n",
    "            text = article[\"content\"]\n",
    "            date = article[\"publishedAt\"][:10]\n",
    "\n",
    "            articles.append({\n",
    "                \"title\": title,\n",
    "                \"description\": description,\n",
    "                \"text\": text,\n",
    "                \"date\": date,\n",
    "                \"language\": language\n",
    "            })\n",
    "        except AttributeError as ae:\n",
    "            pass\n",
    "\n",
    "    return pd.DataFrame(articles)"
   ]
  },
  {
   "cell_type": "code",
   "execution_count": 4,
   "metadata": {},
   "outputs": [],
   "source": [
    "# Tesla news\n",
    "tesla_news_en = newsapi.get_everything(\n",
    "    q=\"tesla\",\n",
    "    language=\"en\"\n",
    ")\n",
    "\n",
    "# Create a DataFrame with Bitcoin news\n",
    "tesla_df = create_df(tesla_news_en[\"articles\"], \"en\")\n",
    "\n",
    "# Save tesla_df as csv\n",
    "tesla_df.to_csv(Path(\"data/tesla_news.csv\"))"
   ]
  },
  {
   "cell_type": "code",
   "execution_count": null,
   "metadata": {},
   "outputs": [],
   "source": [
    "# Elon Musk\n",
    "musk_news_en = newsapi.get_everything(\n",
    "    q=\"Elon Musk\",\n",
    "    language=\"en\"\n",
    ")\n",
    "\n",
    "# Create dataframe with Elon Musk news\n",
    "musk_df = create_df(musk_news_en[\"articles\"], \"en\")\n",
    "\n",
    "# Save dataframe as csv \n",
    "musk_df.to_csv(Path(\"data/musk_news.csv\"))"
   ]
  }
 ],
 "metadata": {
  "file_extension": ".py",
  "kernelspec": {
   "display_name": "Python 3.7.13 ('algotrading')",
   "language": "python",
   "name": "python3"
  },
  "language_info": {
   "codemirror_mode": {
    "name": "ipython",
    "version": 3
   },
   "file_extension": ".py",
   "mimetype": "text/x-python",
   "name": "python",
   "nbconvert_exporter": "python",
   "pygments_lexer": "ipython3",
   "version": "3.7.13"
  },
  "mimetype": "text/x-python",
  "name": "python",
  "npconvert_exporter": "python",
  "pygments_lexer": "ipython3",
  "toc-autonumbering": false,
  "toc-showmarkdowntxt": false,
  "version": 3,
  "vscode": {
   "interpreter": {
    "hash": "a2f371e185fdda869cf9bc779c8b82229bddcfa33e8a657eba75b6a81ff55239"
   }
  }
 },
 "nbformat": 4,
 "nbformat_minor": 4
}
