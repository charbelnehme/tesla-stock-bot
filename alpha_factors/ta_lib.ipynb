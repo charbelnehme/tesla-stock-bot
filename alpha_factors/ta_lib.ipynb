{
 "cells": [
  {
   "cell_type": "code",
   "execution_count": 1,
   "metadata": {
    "ExecuteTime": {
     "end_time": "2021-04-15T19:42:37.360588Z",
     "start_time": "2021-04-15T19:42:36.898524Z"
    }
   },
   "outputs": [],
   "source": [
    "import matplotlib.pyplot as plt\n",
    "import seaborn as sns\n",
    "import pandas as pd\n",
    "from talib import RSI, BBANDS, MACD\n",
    "\n",
    "import warnings\n",
    "warnings.filterwarnings('ignore')\n",
    "\n",
    "%matplotlib inline"
   ]
  },
  {
   "cell_type": "code",
   "execution_count": 2,
   "metadata": {
    "ExecuteTime": {
     "end_time": "2021-04-15T19:42:37.363338Z",
     "start_time": "2021-04-15T19:42:37.361549Z"
    }
   },
   "outputs": [],
   "source": [
    "sns.set_style('whitegrid')\n",
    "idx = pd.IndexSlice"
   ]
  },
  {
   "cell_type": "markdown",
   "metadata": {},
   "source": [
    "## Data Retrieval"
   ]
  },
  {
   "cell_type": "code",
   "execution_count": 3,
   "metadata": {
    "ExecuteTime": {
     "end_time": "2021-04-15T19:42:50.448609Z",
     "start_time": "2021-04-15T19:42:50.446764Z"
    }
   },
   "outputs": [],
   "source": [
    "DATA_STORE = '../../data/assets.h5'"
   ]
  },
  {
   "cell_type": "code",
   "execution_count": 4,
   "metadata": {
    "ExecuteTime": {
     "end_time": "2021-04-15T19:42:53.845584Z",
     "start_time": "2021-04-15T19:42:50.750890Z"
    },
    "scrolled": false
   },
   "outputs": [],
   "source": [
    "with pd.HDFStore(DATA_STORE) as store:\n",
    "    data = (store['alpaca/tesla/prices']\n",
    "            .loc[idx['2018':'2023', 'TSLA'],\n",
    "                 ['open', 'high', 'low', 'close', 'volume']]\n",
    "            .unstack('symbol')\n",
    "            .swaplevel(axis=1)\n",
    "            .loc[:, 'TSLA'])"
   ]
  },
  {
   "cell_type": "code",
   "execution_count": 5,
   "metadata": {
    "ExecuteTime": {
     "end_time": "2021-04-15T19:42:53.853638Z",
     "start_time": "2021-04-15T19:42:53.846571Z"
    }
   },
   "outputs": [
    {
     "name": "stdout",
     "output_type": "stream",
     "text": [
      "<class 'pandas.core.frame.DataFrame'>\n",
      "Index: 805588 entries, 2018-01-02 09:48:00+00:00 to 2022-10-06 23:59:00+00:00\n",
      "Data columns (total 5 columns):\n",
      " #   Column  Non-Null Count   Dtype  \n",
      "---  ------  --------------   -----  \n",
      " 0   open    805588 non-null  float64\n",
      " 1   high    805588 non-null  float64\n",
      " 2   low     805588 non-null  float64\n",
      " 3   close   805588 non-null  float64\n",
      " 4   volume  805588 non-null  int64  \n",
      "dtypes: float64(4), int64(1)\n",
      "memory usage: 36.9+ MB\n"
     ]
    }
   ],
   "source": [
    "data.info()"
   ]
  },
  {
   "cell_type": "code",
   "execution_count": 6,
   "metadata": {},
   "outputs": [
    {
     "data": {
      "text/html": [
       "<div>\n",
       "<style scoped>\n",
       "    .dataframe tbody tr th:only-of-type {\n",
       "        vertical-align: middle;\n",
       "    }\n",
       "\n",
       "    .dataframe tbody tr th {\n",
       "        vertical-align: top;\n",
       "    }\n",
       "\n",
       "    .dataframe thead th {\n",
       "        text-align: right;\n",
       "    }\n",
       "</style>\n",
       "<table border=\"1\" class=\"dataframe\">\n",
       "  <thead>\n",
       "    <tr style=\"text-align: right;\">\n",
       "      <th></th>\n",
       "      <th>open</th>\n",
       "      <th>high</th>\n",
       "      <th>low</th>\n",
       "      <th>close</th>\n",
       "      <th>volume</th>\n",
       "    </tr>\n",
       "    <tr>\n",
       "      <th>timestamp</th>\n",
       "      <th></th>\n",
       "      <th></th>\n",
       "      <th></th>\n",
       "      <th></th>\n",
       "      <th></th>\n",
       "    </tr>\n",
       "  </thead>\n",
       "  <tbody>\n",
       "    <tr>\n",
       "      <th>2018-01-02 09:48:00+00:00</th>\n",
       "      <td>312.00</td>\n",
       "      <td>312.00</td>\n",
       "      <td>312.00</td>\n",
       "      <td>312.00</td>\n",
       "      <td>200</td>\n",
       "    </tr>\n",
       "    <tr>\n",
       "      <th>2018-01-02 09:50:00+00:00</th>\n",
       "      <td>311.80</td>\n",
       "      <td>311.80</td>\n",
       "      <td>311.80</td>\n",
       "      <td>311.80</td>\n",
       "      <td>300</td>\n",
       "    </tr>\n",
       "    <tr>\n",
       "      <th>2018-01-02 10:28:00+00:00</th>\n",
       "      <td>311.50</td>\n",
       "      <td>311.50</td>\n",
       "      <td>311.50</td>\n",
       "      <td>311.50</td>\n",
       "      <td>847</td>\n",
       "    </tr>\n",
       "    <tr>\n",
       "      <th>2018-01-02 11:07:00+00:00</th>\n",
       "      <td>310.99</td>\n",
       "      <td>310.99</td>\n",
       "      <td>310.99</td>\n",
       "      <td>310.99</td>\n",
       "      <td>307</td>\n",
       "    </tr>\n",
       "    <tr>\n",
       "      <th>2018-01-02 11:09:00+00:00</th>\n",
       "      <td>310.99</td>\n",
       "      <td>310.99</td>\n",
       "      <td>310.99</td>\n",
       "      <td>310.99</td>\n",
       "      <td>126</td>\n",
       "    </tr>\n",
       "  </tbody>\n",
       "</table>\n",
       "</div>"
      ],
      "text/plain": [
       "                             open    high     low   close  volume\n",
       "timestamp                                                        \n",
       "2018-01-02 09:48:00+00:00  312.00  312.00  312.00  312.00     200\n",
       "2018-01-02 09:50:00+00:00  311.80  311.80  311.80  311.80     300\n",
       "2018-01-02 10:28:00+00:00  311.50  311.50  311.50  311.50     847\n",
       "2018-01-02 11:07:00+00:00  310.99  310.99  310.99  310.99     307\n",
       "2018-01-02 11:09:00+00:00  310.99  310.99  310.99  310.99     126"
      ]
     },
     "metadata": {},
     "output_type": "display_data"
    },
    {
     "data": {
      "text/html": [
       "<div>\n",
       "<style scoped>\n",
       "    .dataframe tbody tr th:only-of-type {\n",
       "        vertical-align: middle;\n",
       "    }\n",
       "\n",
       "    .dataframe tbody tr th {\n",
       "        vertical-align: top;\n",
       "    }\n",
       "\n",
       "    .dataframe thead th {\n",
       "        text-align: right;\n",
       "    }\n",
       "</style>\n",
       "<table border=\"1\" class=\"dataframe\">\n",
       "  <thead>\n",
       "    <tr style=\"text-align: right;\">\n",
       "      <th></th>\n",
       "      <th>open</th>\n",
       "      <th>high</th>\n",
       "      <th>low</th>\n",
       "      <th>close</th>\n",
       "      <th>volume</th>\n",
       "    </tr>\n",
       "    <tr>\n",
       "      <th>timestamp</th>\n",
       "      <th></th>\n",
       "      <th></th>\n",
       "      <th></th>\n",
       "      <th></th>\n",
       "      <th></th>\n",
       "    </tr>\n",
       "  </thead>\n",
       "  <tbody>\n",
       "    <tr>\n",
       "      <th>2022-10-06 23:55:00+00:00</th>\n",
       "      <td>236.83</td>\n",
       "      <td>236.84</td>\n",
       "      <td>236.75</td>\n",
       "      <td>236.75</td>\n",
       "      <td>5301</td>\n",
       "    </tr>\n",
       "    <tr>\n",
       "      <th>2022-10-06 23:56:00+00:00</th>\n",
       "      <td>236.71</td>\n",
       "      <td>236.71</td>\n",
       "      <td>236.52</td>\n",
       "      <td>236.62</td>\n",
       "      <td>13868</td>\n",
       "    </tr>\n",
       "    <tr>\n",
       "      <th>2022-10-06 23:57:00+00:00</th>\n",
       "      <td>236.62</td>\n",
       "      <td>236.62</td>\n",
       "      <td>236.53</td>\n",
       "      <td>236.59</td>\n",
       "      <td>8869</td>\n",
       "    </tr>\n",
       "    <tr>\n",
       "      <th>2022-10-06 23:58:00+00:00</th>\n",
       "      <td>236.60</td>\n",
       "      <td>236.78</td>\n",
       "      <td>236.60</td>\n",
       "      <td>236.63</td>\n",
       "      <td>6813</td>\n",
       "    </tr>\n",
       "    <tr>\n",
       "      <th>2022-10-06 23:59:00+00:00</th>\n",
       "      <td>236.72</td>\n",
       "      <td>236.80</td>\n",
       "      <td>236.65</td>\n",
       "      <td>236.70</td>\n",
       "      <td>9255</td>\n",
       "    </tr>\n",
       "  </tbody>\n",
       "</table>\n",
       "</div>"
      ],
      "text/plain": [
       "                             open    high     low   close  volume\n",
       "timestamp                                                        \n",
       "2022-10-06 23:55:00+00:00  236.83  236.84  236.75  236.75    5301\n",
       "2022-10-06 23:56:00+00:00  236.71  236.71  236.52  236.62   13868\n",
       "2022-10-06 23:57:00+00:00  236.62  236.62  236.53  236.59    8869\n",
       "2022-10-06 23:58:00+00:00  236.60  236.78  236.60  236.63    6813\n",
       "2022-10-06 23:59:00+00:00  236.72  236.80  236.65  236.70    9255"
      ]
     },
     "metadata": {},
     "output_type": "display_data"
    }
   ],
   "source": [
    "display(data.head())\n",
    "display(data.tail())"
   ]
  },
  {
   "cell_type": "markdown",
   "metadata": {},
   "source": [
    "## Compute Bollinger Bands"
   ]
  },
  {
   "cell_type": "code",
   "execution_count": 7,
   "metadata": {},
   "outputs": [],
   "source": [
    "# Compute Bollinger Bands\n",
    "up, mid, low = BBANDS(data.close, timeperiod=21, nbdevup=2, nbdevdn=2, matype=0)\n",
    "\n",
    "# Visualization \n",
    "data[['close', 'open']].plot(figsize=(16, 9), title='Bollinger Bands')\n",
    "plt.plot(up, label='Upper Band')\n",
    "plt.plot(mid, label='Middle Band')\n",
    "plt.plot(low, label='Lower Band')\n",
    "plt.legend(loc='best')\n",
    "plt.show()"
   ]
  },
  {
   "cell_type": "code",
   "execution_count": null,
   "metadata": {},
   "outputs": [],
   "source": [
    "# Save plot of Bollinger Bands as jpeg in the images folder\n",
    "plt.savefig('../images/bollinger_bands_tesla.jpeg')"
   ]
  },
  {
   "cell_type": "markdown",
   "metadata": {},
   "source": [
    "## Compute Relative Strength Index"
   ]
  },
  {
   "cell_type": "code",
   "execution_count": null,
   "metadata": {
    "ExecuteTime": {
     "end_time": "2021-04-15T19:42:55.394929Z",
     "start_time": "2021-04-15T19:42:55.390068Z"
    }
   },
   "outputs": [],
   "source": [
    "rsi = RSI(data.close, timeperiod=14)"
   ]
  },
  {
   "cell_type": "code",
   "execution_count": null,
   "metadata": {},
   "outputs": [],
   "source": [
    "# Compute RSI index\n",
    "rsi = RSI(data.close, timeperiod=14)\n",
    "\n",
    "# Plot RSI\n",
    "fig, ax = plt.subplots(figsize=(21, 15))\n",
    "ax.plot(data.index, rsi, label='RSI')\n",
    "ax.axhline(70, color='red')\n",
    "ax.axhline(30, color='green')\n",
    "ax.set_ylabel('RSI')\n",
    "ax.legend(loc='best')\n",
    "ax.grid(True)\n",
    "plt.show()"
   ]
  },
  {
   "cell_type": "code",
   "execution_count": null,
   "metadata": {},
   "outputs": [],
   "source": [
    "# Save RSI plot as jpeg\n",
    "plt.savefig('../images/rsi_tesla.jpeg')"
   ]
  },
  {
   "cell_type": "markdown",
   "metadata": {},
   "source": [
    "## Moving Average Convergence/Divergence"
   ]
  },
  {
   "cell_type": "code",
   "execution_count": null,
   "metadata": {
    "ExecuteTime": {
     "end_time": "2021-04-15T19:42:57.841787Z",
     "start_time": "2021-04-15T19:42:57.834071Z"
    }
   },
   "outputs": [],
   "source": [
    "macd, macdsignal, macdhist = MACD(data.close, fastperiod=12, slowperiod=26, signalperiod=9)"
   ]
  },
  {
   "cell_type": "code",
   "execution_count": null,
   "metadata": {
    "ExecuteTime": {
     "end_time": "2021-04-15T19:42:58.664405Z",
     "start_time": "2021-04-15T19:42:57.976469Z"
    }
   },
   "outputs": [],
   "source": [
    "macd_data = pd.DataFrame({'TSLA': data.close, 'TSLA': macd, 'MACD Signal': macdsignal, 'MACD History': macdhist})\n",
    "\n",
    "fig, axes= plt.subplots(nrows=2, figsize=(21, 15))\n",
    "macd_data.TSLA.plot(ax=axes[0])\n",
    "macd_data.drop('TSLA', axis=1).plot(ax=axes[1])\n",
    "fig.tight_layout()\n",
    "sns.despine();"
   ]
  },
  {
   "cell_type": "code",
   "execution_count": null,
   "metadata": {},
   "outputs": [],
   "source": [
    "# Save MCA plot as jpeg\n",
    "plt.savefig('../images/macd_tesla.jpeg')"
   ]
  },
  {
   "cell_type": "markdown",
   "metadata": {},
   "source": [
    "## Plot Result"
   ]
  },
  {
   "cell_type": "code",
   "execution_count": null,
   "metadata": {
    "ExecuteTime": {
     "end_time": "2021-04-15T19:43:00.251256Z",
     "start_time": "2021-04-15T19:43:00.241998Z"
    }
   },
   "outputs": [],
   "source": [
    "data = pd.DataFrame({'TSLA': data.close, 'BB Up': up, 'BB Mid': mid, 'BB down': low, 'RSI': rsi, 'MACD': macd})"
   ]
  },
  {
   "cell_type": "code",
   "execution_count": null,
   "metadata": {
    "ExecuteTime": {
     "end_time": "2021-04-15T19:43:01.009428Z",
     "start_time": "2021-04-15T19:43:00.362906Z"
    }
   },
   "outputs": [],
   "source": [
    "fig, axes= plt.subplots(nrows=3, figsize=(21, 15), sharex=True)\n",
    "data.drop(['RSI', 'MACD'], axis=1).plot(ax=axes[0], lw=1, title='Bollinger Bands')\n",
    "data['RSI'].plot(ax=axes[1], lw=1, title='Relative Strength Index')\n",
    "axes[1].axhline(70, lw=1, ls='--', c='k')\n",
    "axes[1].axhline(30, lw=1, ls='--', c='k')\n",
    "data.MACD.plot(ax=axes[2], lw=1, title='Moving Average Convergence/Divergence', rot=0)\n",
    "axes[2].set_xlabel('')\n",
    "fig.tight_layout()\n",
    "sns.despine();"
   ]
  },
  {
   "cell_type": "code",
   "execution_count": null,
   "metadata": {},
   "outputs": [],
   "source": [
    "# Save combined plot as jpeg\n",
    "plt.savefig('../images/combined_tesla.jpeg')"
   ]
  }
 ],
 "metadata": {
  "kernelspec": {
   "display_name": "Python 3.8.13 ('ml4t')",
   "language": "python",
   "name": "python3"
  },
  "language_info": {
   "codemirror_mode": {
    "name": "ipython",
    "version": 3
   },
   "file_extension": ".py",
   "mimetype": "text/x-python",
   "name": "python",
   "nbconvert_exporter": "python",
   "pygments_lexer": "ipython3",
   "version": "3.8.13"
  },
  "toc": {
   "base_numbering": 1,
   "nav_menu": {},
   "number_sections": true,
   "sideBar": true,
   "skip_h1_title": true,
   "title_cell": "Table of Contents",
   "title_sidebar": "Contents",
   "toc_cell": false,
   "toc_position": {
    "height": "calc(100% - 180px)",
    "left": "10px",
    "top": "150px",
    "width": "230.355px"
   },
   "toc_section_display": true,
   "toc_window_display": true
  },
  "vscode": {
   "interpreter": {
    "hash": "a26ab0c918e84e797e2ee25aa09f8dffd6cda3d9c661f9b6d4aab8d2a17d2239"
   }
  }
 },
 "nbformat": 4,
 "nbformat_minor": 2
}
